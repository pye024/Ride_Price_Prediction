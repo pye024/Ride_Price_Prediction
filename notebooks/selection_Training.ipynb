{
 "cells": [
  {
   "cell_type": "markdown",
   "id": "22d13ebb",
   "metadata": {},
   "source": [
    "# Feature Selection,Model Training and Evaluation"
   ]
  },
  {
   "cell_type": "markdown",
   "id": "eba74b52",
   "metadata": {},
   "source": [
    "**Import Libraries**"
   ]
  },
  {
   "cell_type": "code",
   "execution_count": 95,
   "id": "1cd03c7f",
   "metadata": {},
   "outputs": [],
   "source": [
    "import pandas as pd\n",
    "import matplotlib.pyplot as plt\n",
    "from sklearn.model_selection import train_test_split\n",
    "from sklearn.preprocessing import StandardScaler\n",
    "from sklearn.linear_model import LinearRegression\n",
    "from sklearn.svm import SVR\n",
    "from sklearn.ensemble import RandomForestRegressor\n",
    "from xgboost import XGBRegressor\n",
    "from xgboost import plot_importance\n",
    "from sklearn.metrics import root_mean_squared_error,r2_score\n",
    "from lightgbm import LGBMRegressor\n",
    "import lightgbm as lgb"
   ]
  },
  {
   "cell_type": "code",
   "execution_count": 62,
   "id": "2a58afa9",
   "metadata": {},
   "outputs": [],
   "source": [
    "df=pd.read_csv(\"../data/clean.csv\")"
   ]
  },
  {
   "cell_type": "code",
   "execution_count": 63,
   "id": "1c16717e",
   "metadata": {},
   "outputs": [
    {
     "data": {
      "text/plain": [
       "Index(['Unnamed: 0', 'TRIP_DURATION', 'DISTANCE_TRAVELED', 'NUM_OF_PASSENGERS',\n",
       "       'FARE', 'TIP', 'MISCELLANEOUS_FEES', 'TOTAL_FARE', 'SURGE_APPLIED'],\n",
       "      dtype='object')"
      ]
     },
     "execution_count": 63,
     "metadata": {},
     "output_type": "execute_result"
    }
   ],
   "source": [
    "df.columns"
   ]
  },
  {
   "cell_type": "markdown",
   "id": "7106d510",
   "metadata": {},
   "source": [
    "*Since were predicting FARE only and not TOTAL_FARE we drop the features that are not dependent on FARE and select the necessary features* **'TRIP_DURATION', 'DISTANCE_TRAVELED', 'NUM_OF_PASSENGERS', 'TIP', 'MISCELLANEOUS_FEES' 'SURGE_APPLIED'**\n",
    "*We drop Total Fare because TOTAL_FARE = FARE + TIP + MISCELLANEOUS_FEES*"
   ]
  },
  {
   "cell_type": "code",
   "execution_count": 64,
   "id": "cc7459f2",
   "metadata": {},
   "outputs": [],
   "source": [
    "df.drop(columns=[\"TOTAL_FARE\",\"Unnamed: 0\"],inplace=True)"
   ]
  },
  {
   "cell_type": "code",
   "execution_count": 65,
   "id": "14065941",
   "metadata": {},
   "outputs": [
    {
     "data": {
      "text/html": [
       "<div>\n",
       "<style scoped>\n",
       "    .dataframe tbody tr th:only-of-type {\n",
       "        vertical-align: middle;\n",
       "    }\n",
       "\n",
       "    .dataframe tbody tr th {\n",
       "        vertical-align: top;\n",
       "    }\n",
       "\n",
       "    .dataframe thead th {\n",
       "        text-align: right;\n",
       "    }\n",
       "</style>\n",
       "<table border=\"1\" class=\"dataframe\">\n",
       "  <thead>\n",
       "    <tr style=\"text-align: right;\">\n",
       "      <th></th>\n",
       "      <th>TRIP_DURATION</th>\n",
       "      <th>DISTANCE_TRAVELED</th>\n",
       "      <th>NUM_OF_PASSENGERS</th>\n",
       "      <th>FARE</th>\n",
       "      <th>TIP</th>\n",
       "      <th>MISCELLANEOUS_FEES</th>\n",
       "      <th>SURGE_APPLIED</th>\n",
       "    </tr>\n",
       "  </thead>\n",
       "  <tbody>\n",
       "    <tr>\n",
       "      <th>0</th>\n",
       "      <td>1848</td>\n",
       "      <td>5</td>\n",
       "      <td>1</td>\n",
       "      <td>143</td>\n",
       "      <td>17</td>\n",
       "      <td>26</td>\n",
       "      <td>1</td>\n",
       "    </tr>\n",
       "    <tr>\n",
       "      <th>1</th>\n",
       "      <td>319</td>\n",
       "      <td>2</td>\n",
       "      <td>1</td>\n",
       "      <td>41</td>\n",
       "      <td>0</td>\n",
       "      <td>27</td>\n",
       "      <td>1</td>\n",
       "    </tr>\n",
       "    <tr>\n",
       "      <th>2</th>\n",
       "      <td>962</td>\n",
       "      <td>13</td>\n",
       "      <td>1</td>\n",
       "      <td>180</td>\n",
       "      <td>37</td>\n",
       "      <td>6</td>\n",
       "      <td>0</td>\n",
       "    </tr>\n",
       "    <tr>\n",
       "      <th>3</th>\n",
       "      <td>718</td>\n",
       "      <td>5</td>\n",
       "      <td>1</td>\n",
       "      <td>94</td>\n",
       "      <td>0</td>\n",
       "      <td>6</td>\n",
       "      <td>0</td>\n",
       "    </tr>\n",
       "    <tr>\n",
       "      <th>4</th>\n",
       "      <td>626</td>\n",
       "      <td>3</td>\n",
       "      <td>2</td>\n",
       "      <td>68</td>\n",
       "      <td>19</td>\n",
       "      <td>26</td>\n",
       "      <td>1</td>\n",
       "    </tr>\n",
       "  </tbody>\n",
       "</table>\n",
       "</div>"
      ],
      "text/plain": [
       "   TRIP_DURATION  DISTANCE_TRAVELED  NUM_OF_PASSENGERS  FARE  TIP  \\\n",
       "0           1848                  5                  1   143   17   \n",
       "1            319                  2                  1    41    0   \n",
       "2            962                 13                  1   180   37   \n",
       "3            718                  5                  1    94    0   \n",
       "4            626                  3                  2    68   19   \n",
       "\n",
       "   MISCELLANEOUS_FEES  SURGE_APPLIED  \n",
       "0                  26              1  \n",
       "1                  27              1  \n",
       "2                   6              0  \n",
       "3                   6              0  \n",
       "4                  26              1  "
      ]
     },
     "execution_count": 65,
     "metadata": {},
     "output_type": "execute_result"
    }
   ],
   "source": [
    "df.head(5)"
   ]
  },
  {
   "cell_type": "markdown",
   "id": "086ccceb",
   "metadata": {},
   "source": [
    "Separate Labels and Target"
   ]
  },
  {
   "cell_type": "code",
   "execution_count": 66,
   "id": "336e5672",
   "metadata": {},
   "outputs": [],
   "source": [
    "y=df[\"FARE\"]\n",
    "x=df.drop(columns=\"FARE\")"
   ]
  },
  {
   "cell_type": "markdown",
   "id": "2f2c828b",
   "metadata": {},
   "source": [
    "Split into Testing and Training Sets"
   ]
  },
  {
   "cell_type": "code",
   "execution_count": 67,
   "id": "cdb3b814",
   "metadata": {},
   "outputs": [],
   "source": [
    "X_train, X_test, y_train, y_test = train_test_split(x,y,test_size=0.25,random_state=42)"
   ]
  },
  {
   "cell_type": "markdown",
   "id": "0f0658c6",
   "metadata": {},
   "source": [
    "Scaling Features for Linear and Distance based Models"
   ]
  },
  {
   "cell_type": "code",
   "execution_count": 68,
   "id": "72a52542",
   "metadata": {},
   "outputs": [],
   "source": [
    "st=StandardScaler()\n",
    "X_train_scaled=st.fit_transform(X_train)\n",
    "X_test_scaled=st.transform(X_test)"
   ]
  },
  {
   "cell_type": "markdown",
   "id": "4e7d15e3",
   "metadata": {},
   "source": [
    "**Linear Regression**"
   ]
  },
  {
   "cell_type": "code",
   "execution_count": 69,
   "id": "1c3aba00",
   "metadata": {},
   "outputs": [],
   "source": [
    "lg=LinearRegression()\n",
    "lg.fit(X_train_scaled,y_train)\n",
    "y_pred_lg=lg.predict(X_test_scaled)\n",
    "\n",
    "rmse_lg=root_mean_squared_error(y_test,y_pred_lg)\n",
    "r2_lg=r2_score(y_test,y_pred_lg)"
   ]
  },
  {
   "cell_type": "markdown",
   "id": "fee550e1",
   "metadata": {},
   "source": [
    "**Support Vector Regression**"
   ]
  },
  {
   "cell_type": "code",
   "execution_count": 70,
   "id": "13f9a85b",
   "metadata": {},
   "outputs": [],
   "source": [
    "sv=SVR()\n",
    "sv.fit(X_train_scaled,y_train)\n",
    "y_pred_sv=sv.predict(X_test_scaled)\n",
    "\n",
    "rmse_sv=root_mean_squared_error(y_test,y_pred_sv)\n",
    "r2_sv=r2_score(y_test,y_pred_sv)"
   ]
  },
  {
   "cell_type": "markdown",
   "id": "ab8cd52a",
   "metadata": {},
   "source": [
    "**Random Forest**"
   ]
  },
  {
   "cell_type": "code",
   "execution_count": 71,
   "id": "b9ba9ca4",
   "metadata": {},
   "outputs": [],
   "source": [
    "rf=RandomForestRegressor()\n",
    "rf.fit(X_train,y_train)\n",
    "y_pred_rf=rf.predict(X_test)\n",
    "\n",
    "rmse_rf=root_mean_squared_error(y_test,y_pred_rf)\n",
    "r2_rf=r2_score(y_test,y_pred_rf)"
   ]
  },
  {
   "cell_type": "markdown",
   "id": "170fe06a",
   "metadata": {},
   "source": [
    "**Xgboost**"
   ]
  },
  {
   "cell_type": "code",
   "execution_count": null,
   "id": "8b038dc6",
   "metadata": {},
   "outputs": [],
   "source": [
    "xg=XGBRegressor(n_estimators=500,learning_rate=0.05)\n",
    "xg.fit(X_train,y_train)\n",
    "y_pred_xg=xg.predict(X_test)\n",
    "\n",
    "rmse_xg=root_mean_squared_error(y_test,y_pred_xg)\n",
    "r2_xg=r2_score(y_test,y_pred_xg)"
   ]
  },
  {
   "cell_type": "code",
   "execution_count": null,
   "id": "4d0ef6b6",
   "metadata": {},
   "outputs": [],
   "source": [
    "lgbm=LGBMRegressor(n_estimators=500,learning_rate=0.05)\n",
    "lgbm.fit(X_train,y_train)\n",
    "y_pred_lgbm=lgbm.predict(X_test)\n",
    "\n",
    "rmse_lgbm=root_mean_squared_error(y_test,y_pred_lgbm)\n",
    "r2_lgbm=r2_score(y_test,y_pred_lgbm)"
   ]
  },
  {
   "cell_type": "markdown",
   "id": "3e257e3b",
   "metadata": {},
   "source": [
    "**MODEL COMPARISON**"
   ]
  },
  {
   "cell_type": "code",
   "execution_count": 90,
   "id": "d4eb9124",
   "metadata": {},
   "outputs": [],
   "source": [
    "metrics=pd.DataFrame({\n",
    "\"Models\":[\"LinearRegression\",\"SVR\",\"RandomForest\",\"Xgboost\",\"LightGBM\"],\n",
    "\"R2\":[r2_lg,r2_sv,r2_rf,r2_xg,r2_lgbm],\n",
    "\"RMSE\":[rmse_lg,rmse_sv,rmse_rf,rmse_xg,rmse_lgbm]\n",
    "})"
   ]
  },
  {
   "cell_type": "code",
   "execution_count": 91,
   "id": "40cca7fa",
   "metadata": {},
   "outputs": [
    {
     "data": {
      "text/html": [
       "<div>\n",
       "<style scoped>\n",
       "    .dataframe tbody tr th:only-of-type {\n",
       "        vertical-align: middle;\n",
       "    }\n",
       "\n",
       "    .dataframe tbody tr th {\n",
       "        vertical-align: top;\n",
       "    }\n",
       "\n",
       "    .dataframe thead th {\n",
       "        text-align: right;\n",
       "    }\n",
       "</style>\n",
       "<table border=\"1\" class=\"dataframe\">\n",
       "  <thead>\n",
       "    <tr style=\"text-align: right;\">\n",
       "      <th></th>\n",
       "      <th>Models</th>\n",
       "      <th>R2</th>\n",
       "      <th>RMSE</th>\n",
       "    </tr>\n",
       "  </thead>\n",
       "  <tbody>\n",
       "    <tr>\n",
       "      <th>4</th>\n",
       "      <td>LightGBM</td>\n",
       "      <td>0.910045</td>\n",
       "      <td>25.129141</td>\n",
       "    </tr>\n",
       "    <tr>\n",
       "      <th>3</th>\n",
       "      <td>Xgboost</td>\n",
       "      <td>0.908210</td>\n",
       "      <td>25.384193</td>\n",
       "    </tr>\n",
       "    <tr>\n",
       "      <th>2</th>\n",
       "      <td>RandomForest</td>\n",
       "      <td>0.889065</td>\n",
       "      <td>27.906110</td>\n",
       "    </tr>\n",
       "    <tr>\n",
       "      <th>0</th>\n",
       "      <td>LinearRegression</td>\n",
       "      <td>0.816725</td>\n",
       "      <td>35.868715</td>\n",
       "    </tr>\n",
       "    <tr>\n",
       "      <th>1</th>\n",
       "      <td>SVR</td>\n",
       "      <td>0.760160</td>\n",
       "      <td>41.032290</td>\n",
       "    </tr>\n",
       "  </tbody>\n",
       "</table>\n",
       "</div>"
      ],
      "text/plain": [
       "             Models        R2       RMSE\n",
       "4          LightGBM  0.910045  25.129141\n",
       "3           Xgboost  0.908210  25.384193\n",
       "2      RandomForest  0.889065  27.906110\n",
       "0  LinearRegression  0.816725  35.868715\n",
       "1               SVR  0.760160  41.032290"
      ]
     },
     "execution_count": 91,
     "metadata": {},
     "output_type": "execute_result"
    }
   ],
   "source": [
    "metrics.sort_values(by=\"R2\",ascending=False)"
   ]
  },
  {
   "cell_type": "code",
   "execution_count": 83,
   "id": "36288f09",
   "metadata": {},
   "outputs": [
    {
     "name": "stdout",
     "output_type": "stream",
     "text": [
      "             Models        R2       RMSE\n",
      "4          LightGBM  0.910045  25.129141\n",
      "3           Xgboost  0.908210  25.384193\n",
      "2      RandomForest  0.889065  27.906110\n",
      "0  LinearRegression  0.816725  35.868715\n",
      "1               SVR  0.760160  41.032290\n"
     ]
    }
   ],
   "source": [
    "print(metrics.sort_values(by=\"R2\",ascending=False))"
   ]
  },
  {
   "cell_type": "markdown",
   "id": "9790d6d9",
   "metadata": {},
   "source": [
    "*We clearly see that the Boosting models **XGBOOST** and **LightBGM** outperform the rest of the models **Random Forest** performance was solid but not as good as the boosting models linear regression was also a good baseline*"
   ]
  },
  {
   "cell_type": "code",
   "execution_count": 85,
   "id": "dab64767",
   "metadata": {},
   "outputs": [
    {
     "name": "stdout",
     "output_type": "stream",
     "text": [
      "Fitting 3 folds for each of 40 candidates, totalling 120 fits\n",
      "Fitting 3 folds for each of 40 candidates, totalling 120 fits\n",
      "XGBoost Best: {'subsample': 0.8, 'n_estimators': 300, 'min_child_weight': 5, 'max_depth': 5, 'learning_rate': 0.05, 'gamma': 0.1, 'colsample_bytree': 0.7} 0.8877214789390564\n",
      "LightGBM Best: {'subsample': 0.7, 'num_leaves': 127, 'n_estimators': 800, 'min_child_samples': 20, 'max_depth': 5, 'learning_rate': 0.05, 'colsample_bytree': 0.7} 0.8908640015973592\n"
     ]
    }
   ],
   "source": [
    "\n",
    "from sklearn.model_selection import RandomizedSearchCV\n",
    "\n",
    "xgb_params = {\n",
    "    \"max_depth\": [3, 5, 8, 10],\n",
    "    \"min_child_weight\": [1, 3, 5], \n",
    "    \"learning_rate\": [0.01, 0.05, 0.1], \n",
    "    \"n_estimators\": [300, 500, 800], \n",
    "    \"subsample\": [0.7, 0.8, 1.0], \n",
    "    \"colsample_bytree\": [0.7, 0.8, 1.0],\n",
    "    \"gamma\": [0, 0.1, 0.2] \n",
    "}\n",
    "\n",
    "lgbm_params = {\n",
    "    \"num_leaves\": [31, 63, 127, 255], \n",
    "    \"max_depth\": [-1, 5, 10, 20], \n",
    "    \"learning_rate\": [0.01, 0.05, 0.1],\n",
    "    \"n_estimators\": [300, 500, 800],\n",
    "    \"subsample\": [0.7, 0.8, 1.0],\n",
    "    \"colsample_bytree\": [0.7, 0.8, 1.0],\n",
    "    \"min_child_samples\": [5, 10, 20]\n",
    "}\n",
    "\n",
    "\n",
    "xgb = XGBRegressor(objective=\"reg:squarederror\", random_state=42, n_jobs=-1)\n",
    "xgb_search = RandomizedSearchCV(\n",
    "    xgb, xgb_params, n_iter=40, scoring=\"r2\", cv=3, n_jobs=-1, verbose=1, random_state=42\n",
    ")\n",
    "\n",
    "\n",
    "lgbm = LGBMRegressor(random_state=42)\n",
    "lgbm_search = RandomizedSearchCV(\n",
    "    lgbm, lgbm_params, n_iter=40, scoring=\"r2\", cv=3, n_jobs=-1, verbose=1, random_state=42\n",
    ")\n",
    "\n",
    "\n",
    "xgb_search.fit(X_train, y_train)\n",
    "lgbm_search.fit(X_train, y_train)\n",
    "\n",
    "print(\"XGBoost Best:\", xgb_search.best_params_, xgb_search.best_score_)\n",
    "print(\"LightGBM Best:\", lgbm_search.best_params_, lgbm_search.best_score_)"
   ]
  },
  {
   "cell_type": "markdown",
   "id": "52462dbf",
   "metadata": {},
   "source": [
    "*The Hyperparamter optimization led to underfitting by the models and the base models have a higher R2*\n",
    "**Results Baseline XGBoost: R² ≈ 0.908, RMSE ≈ 25.38 Tuned XGBoost: R² ≈ 0.888 (worse) Baseline LightGBM: R² ≈ 0.910 RMSE ≈ 25.13 Tuned LightGBM: R² ≈ 0.891 (worse)**"
   ]
  },
  {
   "cell_type": "code",
   "execution_count": 96,
   "id": "0c711430",
   "metadata": {},
   "outputs": [
    {
     "data": {
      "image/png": "[encoded data removed]",
      "text/plain": [
       "<Figure size 640x480 with 1 Axes>"
      ]
     },
     "metadata": {},
     "output_type": "display_data"
    }
   ],
   "source": [
    "lgb.plot_importance(lgbm, max_num_features=10, importance_type=\"gain\")\n",
    "plt.show()"
   ]
  }
 ],
 "metadata": {
  "kernelspec": {
   "display_name": "Python 3",
   "language": "python",
   "name": "python3"
  },
  "language_info": {
   "codemirror_mode": {
    "name": "ipython",
    "version": 3
   },
   "file_extension": ".py",
   "mimetype": "text/x-python",
   "name": "python",
   "nbconvert_exporter": "python",
   "pygments_lexer": "ipython3",
   "version": "3.13.1"
  }
 },
 "nbformat": 4,
 "nbformat_minor": 5
}
