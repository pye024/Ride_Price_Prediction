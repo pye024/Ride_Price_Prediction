{
 "cells": [
  {
   "cell_type": "markdown",
   "id": "22d13ebb",
   "metadata": {},
   "source": [
    "# Feature Selection and Training Models"
   ]
  },
  {
   "cell_type": "markdown",
   "id": "eba74b52",
   "metadata": {},
   "source": [
    "**Import Libraries**"
   ]
  },
  {
   "cell_type": "code",
   "execution_count": null,
   "id": "1cd03c7f",
   "metadata": {},
   "outputs": [],
   "source": [
    "import pandas as pd\n",
    "from sklearn.model_selection import train_test_split\n",
    "from sklearn.preprocessing import StandardScaler\n",
    "from sklearn.linear_model import LinearRegression\n",
    "from sklearn.svm import SVR\n",
    "from sklearn.ensemble import RandomForestRegressor\n",
    "from xgboost import XGBRegressor\n",
    "from sklearn.metrics import root_mean_squared_error,r2_score"
   ]
  },
  {
   "cell_type": "code",
   "execution_count": 35,
   "id": "2a58afa9",
   "metadata": {},
   "outputs": [],
   "source": [
    "df=pd.read_csv(\"../data/clean.csv\")"
   ]
  },
  {
   "cell_type": "code",
   "execution_count": 36,
   "id": "1c16717e",
   "metadata": {},
   "outputs": [
    {
     "data": {
      "text/plain": [
       "Index(['Unnamed: 0', 'TRIP_DURATION', 'DISTANCE_TRAVELED', 'NUM_OF_PASSENGERS',\n",
       "       'FARE', 'TIP', 'MISCELLANEOUS_FEES', 'TOTAL_FARE', 'SURGE_APPLIED'],\n",
       "      dtype='object')"
      ]
     },
     "execution_count": 36,
     "metadata": {},
     "output_type": "execute_result"
    }
   ],
   "source": [
    "df.columns"
   ]
  },
  {
   "cell_type": "markdown",
   "id": "7106d510",
   "metadata": {},
   "source": [
    "*Since were predicting FARE only and not TOTAL_FARE we drop the features that are not dependent on FARE and select the necessary features* **'TRIP_DURATION', 'DISTANCE_TRAVELED', 'NUM_OF_PASSENGERS', 'TIP', 'MISCELLANEOUS_FEES' 'SURGE_APPLIED'**\n",
    "*We drop Total Fare because TOTAL_FARE = FARE + TIP + MISCELLANEOUS_FEES*"
   ]
  },
  {
   "cell_type": "code",
   "execution_count": 37,
   "id": "cc7459f2",
   "metadata": {},
   "outputs": [],
   "source": [
    "df.drop(columns=[\"TOTAL_FARE\",\"Unnamed: 0\"],inplace=True)"
   ]
  },
  {
   "cell_type": "code",
   "execution_count": 38,
   "id": "14065941",
   "metadata": {},
   "outputs": [
    {
     "data": {
      "text/html": [
       "<div>\n",
       "<style scoped>\n",
       "    .dataframe tbody tr th:only-of-type {\n",
       "        vertical-align: middle;\n",
       "    }\n",
       "\n",
       "    .dataframe tbody tr th {\n",
       "        vertical-align: top;\n",
       "    }\n",
       "\n",
       "    .dataframe thead th {\n",
       "        text-align: right;\n",
       "    }\n",
       "</style>\n",
       "<table border=\"1\" class=\"dataframe\">\n",
       "  <thead>\n",
       "    <tr style=\"text-align: right;\">\n",
       "      <th></th>\n",
       "      <th>TRIP_DURATION</th>\n",
       "      <th>DISTANCE_TRAVELED</th>\n",
       "      <th>NUM_OF_PASSENGERS</th>\n",
       "      <th>FARE</th>\n",
       "      <th>TIP</th>\n",
       "      <th>MISCELLANEOUS_FEES</th>\n",
       "      <th>SURGE_APPLIED</th>\n",
       "    </tr>\n",
       "  </thead>\n",
       "  <tbody>\n",
       "    <tr>\n",
       "      <th>0</th>\n",
       "      <td>1848</td>\n",
       "      <td>5</td>\n",
       "      <td>1</td>\n",
       "      <td>143</td>\n",
       "      <td>17</td>\n",
       "      <td>26</td>\n",
       "      <td>1</td>\n",
       "    </tr>\n",
       "    <tr>\n",
       "      <th>1</th>\n",
       "      <td>319</td>\n",
       "      <td>2</td>\n",
       "      <td>1</td>\n",
       "      <td>41</td>\n",
       "      <td>0</td>\n",
       "      <td>27</td>\n",
       "      <td>1</td>\n",
       "    </tr>\n",
       "    <tr>\n",
       "      <th>2</th>\n",
       "      <td>962</td>\n",
       "      <td>13</td>\n",
       "      <td>1</td>\n",
       "      <td>180</td>\n",
       "      <td>37</td>\n",
       "      <td>6</td>\n",
       "      <td>0</td>\n",
       "    </tr>\n",
       "    <tr>\n",
       "      <th>3</th>\n",
       "      <td>718</td>\n",
       "      <td>5</td>\n",
       "      <td>1</td>\n",
       "      <td>94</td>\n",
       "      <td>0</td>\n",
       "      <td>6</td>\n",
       "      <td>0</td>\n",
       "    </tr>\n",
       "    <tr>\n",
       "      <th>4</th>\n",
       "      <td>626</td>\n",
       "      <td>3</td>\n",
       "      <td>2</td>\n",
       "      <td>68</td>\n",
       "      <td>19</td>\n",
       "      <td>26</td>\n",
       "      <td>1</td>\n",
       "    </tr>\n",
       "  </tbody>\n",
       "</table>\n",
       "</div>"
      ],
      "text/plain": [
       "   TRIP_DURATION  DISTANCE_TRAVELED  NUM_OF_PASSENGERS  FARE  TIP  \\\n",
       "0           1848                  5                  1   143   17   \n",
       "1            319                  2                  1    41    0   \n",
       "2            962                 13                  1   180   37   \n",
       "3            718                  5                  1    94    0   \n",
       "4            626                  3                  2    68   19   \n",
       "\n",
       "   MISCELLANEOUS_FEES  SURGE_APPLIED  \n",
       "0                  26              1  \n",
       "1                  27              1  \n",
       "2                   6              0  \n",
       "3                   6              0  \n",
       "4                  26              1  "
      ]
     },
     "execution_count": 38,
     "metadata": {},
     "output_type": "execute_result"
    }
   ],
   "source": [
    "df.head(5)"
   ]
  },
  {
   "cell_type": "markdown",
   "id": "086ccceb",
   "metadata": {},
   "source": [
    "Separate Labels and Target"
   ]
  },
  {
   "cell_type": "code",
   "execution_count": 39,
   "id": "336e5672",
   "metadata": {},
   "outputs": [],
   "source": [
    "y=df[\"FARE\"]\n",
    "x=df.drop(columns=\"FARE\")"
   ]
  },
  {
   "cell_type": "markdown",
   "id": "2f2c828b",
   "metadata": {},
   "source": [
    "Split into Testing and Training Sets"
   ]
  },
  {
   "cell_type": "code",
   "execution_count": 41,
   "id": "cdb3b814",
   "metadata": {},
   "outputs": [],
   "source": [
    "X_train, X_test, y_train, y_test = train_test_split(x,y,test_size=0.25,random_state=42)"
   ]
  },
  {
   "cell_type": "markdown",
   "id": "0f0658c6",
   "metadata": {},
   "source": [
    "Scaling Features for Linear and Distance based Models"
   ]
  },
  {
   "cell_type": "code",
   "execution_count": 42,
   "id": "72a52542",
   "metadata": {},
   "outputs": [],
   "source": [
    "st=StandardScaler()\n",
    "X_train_scaled=st.fit_transform(X_train)\n",
    "X_test_scaled=st.transform(X_train)"
   ]
  },
  {
   "cell_type": "markdown",
   "id": "4e7d15e3",
   "metadata": {},
   "source": [
    "**Linear Regression**"
   ]
  },
  {
   "cell_type": "code",
   "execution_count": null,
   "id": "1c3aba00",
   "metadata": {},
   "outputs": [],
   "source": [
    "lg=LinearRegression()\n",
    "lg.fit(X_train_scaled,y_train)\n",
    "y_pred_lg=lg.predict(y_test)\n",
    "\n",
    "print(\"RMSE LINEAR REGRESSION \\n\",root_mean_squared_error(y_test,y_pred_lg))\n",
    "print(\"R2 LINEAR REGRESSION:\\n\",r2_score(y_test,y_pred_lg))"
   ]
  },
  {
   "cell_type": "markdown",
   "id": "fee550e1",
   "metadata": {},
   "source": [
    "**Support Vector Regression**"
   ]
  },
  {
   "cell_type": "code",
   "execution_count": null,
   "id": "13f9a85b",
   "metadata": {},
   "outputs": [],
   "source": [
    "sv=SVR()\n",
    "sv.fit(X_train_scaled,y_train)\n",
    "y_pred_sv=sv.predict(y_test)\n",
    "\n",
    "print(\"RMSE SVR: \\n\",root_mean_squared_error(y_test,y_pred_sv))\n",
    "print(\"R2 SVR:\\n\",r2_score(y_test,y_pred_sv))"
   ]
  },
  {
   "cell_type": "markdown",
   "id": "ab8cd52a",
   "metadata": {},
   "source": [
    "**Random Forest**"
   ]
  },
  {
   "cell_type": "code",
   "execution_count": null,
   "id": "b9ba9ca4",
   "metadata": {},
   "outputs": [],
   "source": [
    "rf=RandomForestRegressor()\n",
    "rf.fit(X_train,y_train)\n",
    "y_pred_rf=rf.predict(y_test)\n",
    "\n",
    "print(\"RMSE RANDOM FOREST: \\n\",root_mean_squared_error(y_test,y_pred_rf))\n",
    "print(\"R2 RANDOM FOREST:\\n\",r2_score(y_test,y_pred_rf))"
   ]
  },
  {
   "cell_type": "markdown",
   "id": "170fe06a",
   "metadata": {},
   "source": [
    "**Xgboost**"
   ]
  },
  {
   "cell_type": "code",
   "execution_count": null,
   "id": "8b038dc6",
   "metadata": {},
   "outputs": [],
   "source": [
    "xg=XGBRegressor())\n",
    "xg.fit(X_train,y_train)\n",
    "y_pred_xg=xg.predict(y_test)\n",
    "\n",
    "print(\"RMSE XGBOOST: \\n\",root_mean_squared_error(y_test,y_pred_xg))\n",
    "print(\"R2 XGBOOST:\\n\",r2_score(y_test,y_pred_xg))"
   ]
  }
 ],
 "metadata": {
  "kernelspec": {
   "display_name": "Python 3",
   "language": "python",
   "name": "python3"
  },
  "language_info": {
   "codemirror_mode": {
    "name": "ipython",
    "version": 3
   },
   "file_extension": ".py",
   "mimetype": "text/x-python",
   "name": "python",
   "nbconvert_exporter": "python",
   "pygments_lexer": "ipython3",
   "version": "3.13.1"
  }
 },
 "nbformat": 4,
 "nbformat_minor": 5
}
